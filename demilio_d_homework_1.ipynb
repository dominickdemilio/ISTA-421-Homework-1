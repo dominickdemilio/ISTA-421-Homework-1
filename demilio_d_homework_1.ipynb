{
 "cells": [
  {
   "cell_type": "code",
   "execution_count": 27,
   "metadata": {},
   "outputs": [],
   "source": [
    "import numpy as np\n",
    "import pandas as pd\n",
    "\n",
    "x = 26\n",
    "y = np.array([2, 36, 1, 98, 124])\n",
    "z = x * y   # Component-wise multiplication\n",
    "\n",
    "Q1 = np.sum(z)"
   ]
  },
  {
   "cell_type": "code",
   "execution_count": 6,
   "metadata": {},
   "outputs": [],
   "source": [
    "Q2_1 = np.arange(21, 401)\n",
    "Q2_2 = np.arange(2, -36, -1)"
   ]
  },
  {
   "cell_type": "code",
   "execution_count": 19,
   "metadata": {},
   "outputs": [],
   "source": [
    "Q3 = np.arange(-3, 9.1, 0.1)"
   ]
  },
  {
   "cell_type": "code",
   "execution_count": 26,
   "metadata": {},
   "outputs": [],
   "source": [
    "Q4 = list(np.random.choice(Q3, size=100, replace=True))"
   ]
  },
  {
   "cell_type": "code",
   "execution_count": 29,
   "metadata": {},
   "outputs": [],
   "source": [
    "t = np.array(['mon', 'tue', 'wed', 'thu', 'fri', 'sat'])\n",
    "m = np.array([90, 80, 50, 20, 5, 20])\n",
    "\n",
    "Q5 = pd.DataFrame({'Day': t, 'Num': m})"
   ]
  },
  {
   "cell_type": "code",
   "execution_count": 35,
   "metadata": {},
   "outputs": [],
   "source": [
    "weight = np.random.normal(81, 0.26, 100) # unit: kg\n",
    "height = np.random.normal(1.76, 0.22, 100) # unit: m\n",
    "age = np.random.normal(25, 5, 100) # unit: year\n",
    "gender = np.random.choice(['A', 'B', 'C'], 100, replace=True)"
   ]
  },
  {
   "cell_type": "code",
   "execution_count": 38,
   "metadata": {},
   "outputs": [],
   "source": [
    "Q7 = pd.DataFrame({'Weight': weight, 'Height': height, 'Age': age, 'Gender': gender})\n",
    "Q7['BMI'] = np.nan"
   ]
  },
  {
   "cell_type": "code",
   "execution_count": 61,
   "metadata": {},
   "outputs": [],
   "source": [
    "\"\"\" \n",
    "For this part, I'm not sure if you mean AgeGroup is true when Age is between \n",
    "20 and 30, or if you mean AgeGroup is true when Age is less than 20 or \n",
    "greater than 30. Reading the directions carefully, it seems to be the latter but \n",
    "it remains unclear.\n",
    "\"\"\"\n",
    "\n",
    "age_group = np.where((Q7['Age'] < 20) | (Q7['Age'] > 30), True, False)\n",
    "Q7['AgeGroup'] = age_group\n",
    "\n",
    "# Store dataset in new variable\n",
    "Q8 = Q7.copy()"
   ]
  },
  {
   "cell_type": "code",
   "execution_count": 62,
   "metadata": {},
   "outputs": [],
   "source": [
    "Q8['BMI'] = Q8['Weight'] / (Q8['Height'] ** 2)\n",
    "\n",
    "# Store dataset in new variable\n",
    "Q9 = Q8.copy()"
   ]
  },
  {
   "cell_type": "code",
   "execution_count": 63,
   "metadata": {},
   "outputs": [],
   "source": [
    "def function_Q10(height, weight):\n",
    "    return weight / (height ** 2)\n",
    "\n",
    "# Calculate BMI\n",
    "Q9['BMI'] = function_Q10(Q9['Height'], Q9['Weight'])"
   ]
  },
  {
   "cell_type": "code",
   "execution_count": null,
   "metadata": {},
   "outputs": [],
   "source": [
    "def function_Q11(df, target_gender):\n",
    "    # Handle missing BMI values\n",
    "    if 'BMI' not in df.columns:\n",
    "        df['BMI'] = function_Q10(df['Height'], df['Weight'])\n",
    "\n",
    "    # Filter the dataframe by gender\n",
    "    filtered_df = df[df['Gender'] == target_gender]\n",
    "\n",
    "    # Calculate and return mean BMI\n",
    "    return filtered_df['BMI'].mean()\n",
    "\n",
    "# Show functionality of function_Q11\n",
    "function_Q11(Q9, 'A')"
   ]
  },
  {
   "cell_type": "code",
   "execution_count": 66,
   "metadata": {},
   "outputs": [],
   "source": [
    "Q9['BMIc'] = np.where(Q9['AgeGroup'] == True, Q9['BMI'] * 1.1, Q9['BMI'])\n",
    "\n",
    "# Store dataset in new variable\n",
    "Q12 = Q9.copy()"
   ]
  }
 ],
 "metadata": {
  "kernelspec": {
   "display_name": "islp_env",
   "language": "python",
   "name": "python3"
  },
  "language_info": {
   "codemirror_mode": {
    "name": "ipython",
    "version": 3
   },
   "file_extension": ".py",
   "mimetype": "text/x-python",
   "name": "python",
   "nbconvert_exporter": "python",
   "pygments_lexer": "ipython3",
   "version": "3.10.16"
  }
 },
 "nbformat": 4,
 "nbformat_minor": 2
}
